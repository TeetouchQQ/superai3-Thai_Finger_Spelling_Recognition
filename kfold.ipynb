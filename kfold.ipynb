{
 "cells": [
  {
   "cell_type": "code",
   "execution_count": 1,
   "id": "400662d4-f8f9-4b52-ab8c-50f31e376baf",
   "metadata": {
    "tags": []
   },
   "outputs": [],
   "source": [
    "from fastai.vision.all import *\n",
    "from iterstrat.ml_stratifiers import MultilabelStratifiedKFold\n",
    "import gc"
   ]
  },
  {
   "cell_type": "code",
   "execution_count": 2,
   "id": "d63769a6-c549-4b39-9d49-5fcc65e41b9b",
   "metadata": {
    "tags": []
   },
   "outputs": [],
   "source": [
    "def random_seed(seed_value, use_cuda): \n",
    "    np.random.seed(seed_value)\n",
    " #cpu vars\n",
    "    torch.manual_seed(seed_value) \n",
    "# cpu  vars\n",
    "    random.seed(seed_value)\n",
    " # Python \n",
    "    if use_cuda: \n",
    "        torch.cuda.manual_seed(seed_value) \n",
    "        torch.cuda.manual_seed_all(seed_value) \n",
    "# gpu vars\n",
    "        torch.backends.cudnn.deterministic = True \n",
    " #needed\n",
    "        torch.backends.cudnn.benchmark = False \n",
    "#Remember to use num_workers=0 when creating the DataBunch.\n",
    "\n",
    "random_seed(3407,True)"
   ]
  },
  {
   "cell_type": "code",
   "execution_count": 3,
   "id": "4d89c9f6-7d5e-4ca4-8d53-b0f986c60d23",
   "metadata": {
    "tags": []
   },
   "outputs": [
    {
     "data": {
      "text/html": [
       "<div>\n",
       "<style scoped>\n",
       "    .dataframe tbody tr th:only-of-type {\n",
       "        vertical-align: middle;\n",
       "    }\n",
       "\n",
       "    .dataframe tbody tr th {\n",
       "        vertical-align: top;\n",
       "    }\n",
       "\n",
       "    .dataframe thead th {\n",
       "        text-align: right;\n",
       "    }\n",
       "</style>\n",
       "<table border=\"1\" class=\"dataframe\">\n",
       "  <thead>\n",
       "    <tr style=\"text-align: right;\">\n",
       "      <th></th>\n",
       "      <th>id</th>\n",
       "      <th>label</th>\n",
       "    </tr>\n",
       "  </thead>\n",
       "  <tbody>\n",
       "    <tr>\n",
       "      <th>0</th>\n",
       "      <td>dataset_normal/images/test/5f3540c43f86dab2c9a7c87834311ee3.jpg</td>\n",
       "      <td>4</td>\n",
       "    </tr>\n",
       "    <tr>\n",
       "      <th>1</th>\n",
       "      <td>dataset_normal/images/test/7f14db51f1994bce42972c7fe111f5cd.jpg</td>\n",
       "      <td>18</td>\n",
       "    </tr>\n",
       "    <tr>\n",
       "      <th>2</th>\n",
       "      <td>dataset_normal/images/test/092908960a3d4dccbe06a60b71dcdd98.jpg</td>\n",
       "      <td>19</td>\n",
       "    </tr>\n",
       "    <tr>\n",
       "      <th>3</th>\n",
       "      <td>dataset_normal/images/test/542ed4f107f9472457b47a436ec55e60.jpg</td>\n",
       "      <td>5</td>\n",
       "    </tr>\n",
       "    <tr>\n",
       "      <th>4</th>\n",
       "      <td>dataset_normal/images/test/c125af0d467cffe584728aad4b426d53.jpg</td>\n",
       "      <td>1</td>\n",
       "    </tr>\n",
       "    <tr>\n",
       "      <th>...</th>\n",
       "      <td>...</td>\n",
       "      <td>...</td>\n",
       "    </tr>\n",
       "    <tr>\n",
       "      <th>3499</th>\n",
       "      <td>dataset_normal/images/train/ab98e8288691368429373c8ce97464bb.jpg</td>\n",
       "      <td>17</td>\n",
       "    </tr>\n",
       "    <tr>\n",
       "      <th>3500</th>\n",
       "      <td>dataset_normal/images/train/8554d163909096427e3197bdfe95ab5c.jpg</td>\n",
       "      <td>7</td>\n",
       "    </tr>\n",
       "    <tr>\n",
       "      <th>3501</th>\n",
       "      <td>dataset_normal/images/train/9c86ecf81893b65ee9ac478f1351ca8c.jpg</td>\n",
       "      <td>14</td>\n",
       "    </tr>\n",
       "    <tr>\n",
       "      <th>3502</th>\n",
       "      <td>dataset_normal/images/train/36398d5613e8b7e5515b37d10f7b8bd9.jpg</td>\n",
       "      <td>19</td>\n",
       "    </tr>\n",
       "    <tr>\n",
       "      <th>3503</th>\n",
       "      <td>dataset_normal/images/train/42a8fc568abf3edbb7e4dc3ebe58a081.jpg</td>\n",
       "      <td>8</td>\n",
       "    </tr>\n",
       "  </tbody>\n",
       "</table>\n",
       "<p>3504 rows × 2 columns</p>\n",
       "</div>"
      ],
      "text/plain": [
       "                                                                    id  label\n",
       "0      dataset_normal/images/test/5f3540c43f86dab2c9a7c87834311ee3.jpg      4\n",
       "1      dataset_normal/images/test/7f14db51f1994bce42972c7fe111f5cd.jpg     18\n",
       "2      dataset_normal/images/test/092908960a3d4dccbe06a60b71dcdd98.jpg     19\n",
       "3      dataset_normal/images/test/542ed4f107f9472457b47a436ec55e60.jpg      5\n",
       "4      dataset_normal/images/test/c125af0d467cffe584728aad4b426d53.jpg      1\n",
       "...                                                                ...    ...\n",
       "3499  dataset_normal/images/train/ab98e8288691368429373c8ce97464bb.jpg     17\n",
       "3500  dataset_normal/images/train/8554d163909096427e3197bdfe95ab5c.jpg      7\n",
       "3501  dataset_normal/images/train/9c86ecf81893b65ee9ac478f1351ca8c.jpg     14\n",
       "3502  dataset_normal/images/train/36398d5613e8b7e5515b37d10f7b8bd9.jpg     19\n",
       "3503  dataset_normal/images/train/42a8fc568abf3edbb7e4dc3ebe58a081.jpg      8\n",
       "\n",
       "[3504 rows x 2 columns]"
      ]
     },
     "execution_count": 3,
     "metadata": {},
     "output_type": "execute_result"
    }
   ],
   "source": [
    "# train_df = pd.read_csv('dataset_normal/train.csv')\n",
    "# train_df['id'] = train_df['id'].apply(lambda x : \"dataset_normal/images/train/\" + x)\n",
    "# train_df\n",
    "\n",
    "train_df = pd.read_csv('pesudo_label4.csv')\n",
    "train_df"
   ]
  },
  {
   "cell_type": "code",
   "execution_count": 4,
   "id": "9dbf4304-2763-41b1-985c-4318d60b5cf5",
   "metadata": {
    "tags": []
   },
   "outputs": [
    {
     "data": {
      "text/html": [
       "<div>\n",
       "<style scoped>\n",
       "    .dataframe tbody tr th:only-of-type {\n",
       "        vertical-align: middle;\n",
       "    }\n",
       "\n",
       "    .dataframe tbody tr th {\n",
       "        vertical-align: top;\n",
       "    }\n",
       "\n",
       "    .dataframe thead th {\n",
       "        text-align: right;\n",
       "    }\n",
       "</style>\n",
       "<table border=\"1\" class=\"dataframe\">\n",
       "  <thead>\n",
       "    <tr style=\"text-align: right;\">\n",
       "      <th></th>\n",
       "      <th>id</th>\n",
       "      <th>label</th>\n",
       "      <th>fold</th>\n",
       "    </tr>\n",
       "  </thead>\n",
       "  <tbody>\n",
       "    <tr>\n",
       "      <th>0</th>\n",
       "      <td>dataset_normal/images/test/5f3540c43f86dab2c9a7c87834311ee3.jpg</td>\n",
       "      <td>4</td>\n",
       "      <td>6</td>\n",
       "    </tr>\n",
       "    <tr>\n",
       "      <th>1</th>\n",
       "      <td>dataset_normal/images/test/7f14db51f1994bce42972c7fe111f5cd.jpg</td>\n",
       "      <td>18</td>\n",
       "      <td>8</td>\n",
       "    </tr>\n",
       "    <tr>\n",
       "      <th>2</th>\n",
       "      <td>dataset_normal/images/test/092908960a3d4dccbe06a60b71dcdd98.jpg</td>\n",
       "      <td>19</td>\n",
       "      <td>2</td>\n",
       "    </tr>\n",
       "    <tr>\n",
       "      <th>3</th>\n",
       "      <td>dataset_normal/images/test/542ed4f107f9472457b47a436ec55e60.jpg</td>\n",
       "      <td>5</td>\n",
       "      <td>5</td>\n",
       "    </tr>\n",
       "    <tr>\n",
       "      <th>4</th>\n",
       "      <td>dataset_normal/images/test/c125af0d467cffe584728aad4b426d53.jpg</td>\n",
       "      <td>1</td>\n",
       "      <td>3</td>\n",
       "    </tr>\n",
       "  </tbody>\n",
       "</table>\n",
       "</div>"
      ],
      "text/plain": [
       "                                                                id  label   \n",
       "0  dataset_normal/images/test/5f3540c43f86dab2c9a7c87834311ee3.jpg      4  \\\n",
       "1  dataset_normal/images/test/7f14db51f1994bce42972c7fe111f5cd.jpg     18   \n",
       "2  dataset_normal/images/test/092908960a3d4dccbe06a60b71dcdd98.jpg     19   \n",
       "3  dataset_normal/images/test/542ed4f107f9472457b47a436ec55e60.jpg      5   \n",
       "4  dataset_normal/images/test/c125af0d467cffe584728aad4b426d53.jpg      1   \n",
       "\n",
       "   fold  \n",
       "0     6  \n",
       "1     8  \n",
       "2     2  \n",
       "3     5  \n",
       "4     3  "
      ]
     },
     "execution_count": 4,
     "metadata": {},
     "output_type": "execute_result"
    }
   ],
   "source": [
    "strat_kfold = MultilabelStratifiedKFold(n_splits=10, random_state=42, shuffle=True)\n",
    "train_df['fold'] = -1\n",
    "for i, (_, test_index) in enumerate(strat_kfold.split(train_df.id.values, train_df.iloc[:,1:].values)):\n",
    "    train_df.iloc[test_index, -1] = i\n",
    "train_df.head()"
   ]
  },
  {
   "cell_type": "code",
   "execution_count": 5,
   "id": "ce41270b-190f-49fe-9950-9606bdc5b2aa",
   "metadata": {
    "tags": []
   },
   "outputs": [
    {
     "data": {
      "image/png": "[encoded data removed]",
      "text/plain": [
       "<Figure size 640x480 with 1 Axes>"
      ]
     },
     "metadata": {},
     "output_type": "display_data"
    }
   ],
   "source": [
    "train_df.fold.value_counts().plot.bar();"
   ]
  },
  {
   "cell_type": "code",
   "execution_count": 6,
   "id": "529c8938-40c5-4b4c-a75a-85cf7e738823",
   "metadata": {
    "tags": []
   },
   "outputs": [],
   "source": [
    "class AlbumentationsTransform (RandTransform):\n",
    "    split_idx,order=None,2\n",
    "    def __init__(self, train_aug, valid_aug): store_attr()\n",
    "    \n",
    "    def before_call(self, b, split_idx):\n",
    "        self.idx = split_idx\n",
    "    \n",
    "    def encodes(self, img: PILImage):\n",
    "        if self.idx == 0:\n",
    "            aug_img = self.train_aug(image=np.array(img))['image']\n",
    "        else:\n",
    "            aug_img = self.valid_aug(image=np.array(img))['image']\n",
    "        return PILImage.create(aug_img)\n",
    "    \n"
   ]
  },
  {
   "cell_type": "code",
   "execution_count": 7,
   "id": "9460f8f5-0770-4dda-b1b8-1d6c1611bda1",
   "metadata": {
    "tags": []
   },
   "outputs": [],
   "source": [
    "import albumentations\n",
    "from albumentations.pytorch import ToTensorV2\n",
    "warnings.filterwarnings('ignore')\n",
    "size = 448\n",
    "def get_train_aug(): return albumentations.Compose([\n",
    "            albumentations.Resize(always_apply=False, p=1.0, height=size, width=size, interpolation=0),\n",
    "            #AutoContrast(),\n",
    "            #albumentations.PadIfNeeded(always_apply=False, p=1.0, min_height=size, min_width=size, pad_height_divisor=None, pad_width_divisor=None, border_mode=0, value=(255, 255, 255), mask_value=None), #Extra tip, use size that's suitable for the efficentNetwork you are using.\n",
    "            albumentations.Rotate(limit=(-20, 20)),\n",
    "            #albumentations.HorizontalFlip(p=0.5),\n",
    "            #albumentations.VerticalFlip(p=0.5),\n",
    "            #albumentations.Sharpen(always_apply=False, p=1.0, alpha=(0.2, 0.5), lightness=(0.5, 1.0)),\n",
    "            #albumentations.GaussianBlur(always_apply=False, p=1.0, blur_limit=(3, 7), sigma_limit=(0.0, 0)),\n",
    "            # #albumentations.ShiftScaleRotate(always_apply=False, p=1.0, shift_limit_x=(-0.06, 0.06), shift_limit_y=(-0.06, 0.06), scale_limit=(-0.1, 0.1), rotate_limit=(-20, 20), interpolation=0, border_mode=0, value=(255, 255, 255), mask_value=None, rotate_method='largest_box'),\n",
    "            # albumentations.HueSaturationValue(\n",
    "            #     hue_shift_limit=0.2, \n",
    "            #     sat_shift_limit=0.2, \n",
    "            #     val_shift_limit=0.2, \n",
    "            #     p=0.5\n",
    "            # ),\n",
    "            # #albumentations.ColorJitter(contrast=(0.9, 1.1)),\n",
    "            # #albumentations.CLAHE(always_apply=False, p=0.5, clip_limit=(1, 4), tile_grid_size=(8, 8)),\n",
    "            # albumentations.RandomBrightnessContrast(\n",
    "            #     brightness_limit=(-0.2,0.2), \n",
    "            #     contrast_limit=(-0.2, 0.2), \n",
    "            #     p=0.5\n",
    "            # ),\n",
    "            #albumentations.RandomGamma(),\n",
    "            #albumentations.ToGray(always_apply=False, p=1.0)\n",
    "            \n",
    "           #albumentations.RandomGridShuffle(p=0.5)\\\n",
    "    ], p=1.)\n",
    "\n",
    "\n",
    "\n",
    "def get_valid_aug(): return albumentations.Compose([\n",
    "            albumentations.Resize(always_apply=False, p=1.0, height=size, width=size, interpolation=0),\n",
    "  \n",
    "            #albumentations.PadIfNeeded(always_apply=False, p=1.0, min_height=size, min_width=size, pad_height_divisor=None, pad_width_divisor=None, border_mode=0, value=(255, 255, 255), mask_value=None),\n",
    "            #albumentations.ToGray(always_apply=False, p=1.0),\n",
    "            #AutoContrast(),\n",
    "             \n",
    "            ], p=1.0)\n",
    "\n",
    "item_tfms = AlbumentationsTransform(get_train_aug(), get_valid_aug())\n",
    "batch_tfms = [Normalize.from_stats(*imagenet_stats)]"
   ]
  },
  {
   "cell_type": "code",
   "execution_count": 8,
   "id": "2e77af54-6852-4c23-aba3-2584abff754a",
   "metadata": {
    "tags": []
   },
   "outputs": [],
   "source": [
    "def get_data(fold=0):\n",
    "    return DataBlock(blocks=(ImageBlock,CategoryBlock),\n",
    "                       get_x=ColReader(0),\n",
    "                       get_y=ColReader(1),\n",
    "                       splitter=IndexSplitter(train_df[train_df.fold == fold].index),\n",
    "                       item_tfms=item_tfms,\n",
    "                   batch_tfms=[Normalize.from_stats(*imagenet_stats)]\n",
    "                      ).dataloaders(train_df, bs=6)"
   ]
  },
  {
   "cell_type": "code",
   "execution_count": 9,
   "id": "a7f8fa1b-689b-41b9-bd43-6b7594a5230c",
   "metadata": {
    "tags": []
   },
   "outputs": [
    {
     "data": {
      "text/html": [
       "<div>\n",
       "<style scoped>\n",
       "    .dataframe tbody tr th:only-of-type {\n",
       "        vertical-align: middle;\n",
       "    }\n",
       "\n",
       "    .dataframe tbody tr th {\n",
       "        vertical-align: top;\n",
       "    }\n",
       "\n",
       "    .dataframe thead th {\n",
       "        text-align: right;\n",
       "    }\n",
       "</style>\n",
       "<table border=\"1\" class=\"dataframe\">\n",
       "  <thead>\n",
       "    <tr style=\"text-align: right;\">\n",
       "      <th></th>\n",
       "      <th>id</th>\n",
       "    </tr>\n",
       "  </thead>\n",
       "  <tbody>\n",
       "    <tr>\n",
       "      <th>0</th>\n",
       "      <td>dataset_normal/images/test/5f3540c43f86dab2c9a7c87834311ee3.jpg</td>\n",
       "    </tr>\n",
       "    <tr>\n",
       "      <th>1</th>\n",
       "      <td>dataset_normal/images/test/7f14db51f1994bce42972c7fe111f5cd.jpg</td>\n",
       "    </tr>\n",
       "    <tr>\n",
       "      <th>2</th>\n",
       "      <td>dataset_normal/images/test/092908960a3d4dccbe06a60b71dcdd98.jpg</td>\n",
       "    </tr>\n",
       "    <tr>\n",
       "      <th>3</th>\n",
       "      <td>dataset_normal/images/test/542ed4f107f9472457b47a436ec55e60.jpg</td>\n",
       "    </tr>\n",
       "    <tr>\n",
       "      <th>4</th>\n",
       "      <td>dataset_normal/images/test/c125af0d467cffe584728aad4b426d53.jpg</td>\n",
       "    </tr>\n",
       "  </tbody>\n",
       "</table>\n",
       "</div>"
      ],
      "text/plain": [
       "                                                                id\n",
       "0  dataset_normal/images/test/5f3540c43f86dab2c9a7c87834311ee3.jpg\n",
       "1  dataset_normal/images/test/7f14db51f1994bce42972c7fe111f5cd.jpg\n",
       "2  dataset_normal/images/test/092908960a3d4dccbe06a60b71dcdd98.jpg\n",
       "3  dataset_normal/images/test/542ed4f107f9472457b47a436ec55e60.jpg\n",
       "4  dataset_normal/images/test/c125af0d467cffe584728aad4b426d53.jpg"
      ]
     },
     "execution_count": 9,
     "metadata": {},
     "output_type": "execute_result"
    }
   ],
   "source": [
    "test_df = pd.read_csv('dataset_normal/test.csv')\n",
    "test_df['id'] = test_df['id'].apply(lambda x : \"dataset_normal/images/test/\" + x)\n",
    "tstpng = test_df.copy()\n",
    "tstpng.head()"
   ]
  },
  {
   "cell_type": "code",
   "execution_count": null,
   "id": "ee1458ba-9ceb-4b2c-9dea-165f54a54df2",
   "metadata": {
    "tags": []
   },
   "outputs": [
    {
     "data": {
      "text/html": [
       "\n",
       "<style>\n",
       "    /* Turns off some styling */\n",
       "    progress {\n",
       "        /* gets rid of default border in Firefox and Opera. */\n",
       "        border: none;\n",
       "        /* Needs to be in here for Safari polyfill so background images work as expected. */\n",
       "        background-size: auto;\n",
       "    }\n",
       "    progress:not([value]), progress:not([value])::-webkit-progress-bar {\n",
       "        background: repeating-linear-gradient(45deg, #7e7e7e, #7e7e7e 10px, #5c5c5c 10px, #5c5c5c 20px);\n",
       "    }\n",
       "    .progress-bar-interrupted, .progress-bar-interrupted::-webkit-progress-bar {\n",
       "        background: #F44336;\n",
       "    }\n",
       "</style>\n"
      ],
      "text/plain": [
       "<IPython.core.display.HTML object>"
      ]
     },
     "metadata": {},
     "output_type": "display_data"
    },
    {
     "data": {
      "text/html": [
       "<table border=\"1\" class=\"dataframe\">\n",
       "  <thead>\n",
       "    <tr style=\"text-align: left;\">\n",
       "      <th>epoch</th>\n",
       "      <th>train_loss</th>\n",
       "      <th>valid_loss</th>\n",
       "      <th>accuracy</th>\n",
       "      <th>time</th>\n",
       "    </tr>\n",
       "  </thead>\n",
       "  <tbody>\n",
       "    <tr>\n",
       "      <td>0</td>\n",
       "      <td>2.464059</td>\n",
       "      <td>0.737741</td>\n",
       "      <td>0.742857</td>\n",
       "      <td>03:14</td>\n",
       "    </tr>\n",
       "  </tbody>\n",
       "</table>"
      ],
      "text/plain": [
       "<IPython.core.display.HTML object>"
      ]
     },
     "metadata": {},
     "output_type": "display_data"
    },
    {
     "name": "stdout",
     "output_type": "stream",
     "text": [
      "Better model found at epoch 0 with valid_loss value: 0.7377413511276245.\n"
     ]
    },
    {
     "data": {
      "text/html": [
       "\n",
       "<style>\n",
       "    /* Turns off some styling */\n",
       "    progress {\n",
       "        /* gets rid of default border in Firefox and Opera. */\n",
       "        border: none;\n",
       "        /* Needs to be in here for Safari polyfill so background images work as expected. */\n",
       "        background-size: auto;\n",
       "    }\n",
       "    progress:not([value]), progress:not([value])::-webkit-progress-bar {\n",
       "        background: repeating-linear-gradient(45deg, #7e7e7e, #7e7e7e 10px, #5c5c5c 10px, #5c5c5c 20px);\n",
       "    }\n",
       "    .progress-bar-interrupted, .progress-bar-interrupted::-webkit-progress-bar {\n",
       "        background: #F44336;\n",
       "    }\n",
       "</style>\n"
      ],
      "text/plain": [
       "<IPython.core.display.HTML object>"
      ]
     },
     "metadata": {},
     "output_type": "display_data"
    },
    {
     "data": {
      "text/html": [
       "\n",
       "    <div>\n",
       "      <progress value='4' class='' max='5' style='width:300px; height:20px; vertical-align: middle;'></progress>\n",
       "      80.00% [4/5 17:11&lt;04:17]\n",
       "    </div>\n",
       "    \n",
       "<table border=\"1\" class=\"dataframe\">\n",
       "  <thead>\n",
       "    <tr style=\"text-align: left;\">\n",
       "      <th>epoch</th>\n",
       "      <th>train_loss</th>\n",
       "      <th>valid_loss</th>\n",
       "      <th>accuracy</th>\n",
       "      <th>time</th>\n",
       "    </tr>\n",
       "  </thead>\n",
       "  <tbody>\n",
       "    <tr>\n",
       "      <td>0</td>\n",
       "      <td>1.717754</td>\n",
       "      <td>0.169721</td>\n",
       "      <td>0.954286</td>\n",
       "      <td>04:14</td>\n",
       "    </tr>\n",
       "    <tr>\n",
       "      <td>1</td>\n",
       "      <td>1.429817</td>\n",
       "      <td>0.106335</td>\n",
       "      <td>0.974286</td>\n",
       "      <td>04:14</td>\n",
       "    </tr>\n",
       "    <tr>\n",
       "      <td>2</td>\n",
       "      <td>1.175348</td>\n",
       "      <td>0.076330</td>\n",
       "      <td>0.982857</td>\n",
       "      <td>04:14</td>\n",
       "    </tr>\n",
       "    <tr>\n",
       "      <td>3</td>\n",
       "      <td>0.998154</td>\n",
       "      <td>0.041559</td>\n",
       "      <td>0.994286</td>\n",
       "      <td>04:14</td>\n",
       "    </tr>\n",
       "  </tbody>\n",
       "</table><p>\n",
       "\n",
       "    <div>\n",
       "      <progress value='98' class='' max='525' style='width:300px; height:20px; vertical-align: middle;'></progress>\n",
       "      18.67% [98/525 00:46&lt;03:22 0.9389]\n",
       "    </div>\n",
       "    "
      ],
      "text/plain": [
       "<IPython.core.display.HTML object>"
      ]
     },
     "metadata": {},
     "output_type": "display_data"
    },
    {
     "name": "stdout",
     "output_type": "stream",
     "text": [
      "Better model found at epoch 0 with valid_loss value: 0.16972051560878754.\n",
      "Better model found at epoch 1 with valid_loss value: 0.10633503645658493.\n",
      "Better model found at epoch 2 with valid_loss value: 0.07633049041032791.\n",
      "Better model found at epoch 3 with valid_loss value: 0.0415588803589344.\n"
     ]
    }
   ],
   "source": [
    "all_preds = []\n",
    "#cutmix = CutMix(1.)\n",
    "mixup = MixUp(1.)\n",
    "for i in range(10):\n",
    "    dls = get_data(i)\n",
    "    \n",
    "    learn = cnn_learner(dls, 'eva02_large_patch14_448.mim_m38m_ft_in22k_in1k',metrics=accuracy,cbs= [SaveModelCallback(monitor='valid_loss'),\n",
    "                                                                                                                mixup]).to_fp16()\n",
    "    #learn.fit_one_cycle(10, slice(1e-5,1e-4))\n",
    "    learn.fine_tune(5)\n",
    "#     learn.fit_one_cycle(10, cbs=EarlyStoppingCallback(monitor='valid_loss'))\n",
    "#     learn.dls = get_data(i,512,32)\n",
    "#     learn.fine_tune(10,cbs=EarlyStoppingCallback(monitor='valid_loss'))\n",
    "    \n",
    "    \n",
    "    tst_dl = learn.dls.test_dl(tstpng)\n",
    "    preds, _ = learn.get_preds(dl=tst_dl)\n",
    "    all_preds.append(preds)\n",
    "    del learn\n",
    "    torch.cuda.empty_cache()\n",
    "    gc.collect()"
   ]
  },
  {
   "cell_type": "code",
   "execution_count": null,
   "id": "f05a8688-8126-4eed-b401-c268a568861f",
   "metadata": {
    "tags": []
   },
   "outputs": [],
   "source": [
    "sub = pd.read_csv('dataset_normal/test.csv')\n",
    "preds = np.mean(np.stack(all_preds), axis=0)\n",
    "preds = torch.from_numpy(preds)"
   ]
  },
  {
   "cell_type": "code",
   "execution_count": null,
   "id": "8e35be56-956f-4aeb-a9c6-a0b83d563d06",
   "metadata": {
    "tags": []
   },
   "outputs": [],
   "source": [
    "#tta_preds, _ = tta\n",
    "idxs = preds.argmax(dim=1)\n",
    "vocab = np.array(dls.vocab)\n",
    "sub = pd.read_csv('dataset_normal/test.csv')\n",
    "sub['predict'] = vocab[idxs]\n"
   ]
  },
  {
   "cell_type": "code",
   "execution_count": null,
   "id": "f1379e08-cacf-422e-9b24-4c11a889e50f",
   "metadata": {
    "tags": []
   },
   "outputs": [],
   "source": [
    "sub.to_csv(\"pesudo_hope.csv\",index=False)"
   ]
  },
  {
   "cell_type": "code",
   "execution_count": null,
   "id": "a279466a-28e3-415a-bd5c-361c776453cc",
   "metadata": {},
   "outputs": [],
   "source": [
    "sub"
   ]
  },
  {
   "cell_type": "code",
   "execution_count": null,
   "id": "d2be1089-9605-4431-bd83-91e5c1d0a520",
   "metadata": {
    "tags": []
   },
   "outputs": [],
   "source": []
  }
 ],
 "metadata": {
  "kernelspec": {
   "display_name": "Python 3 (ipykernel)",
   "language": "python",
   "name": "python3"
  },
  "language_info": {
   "codemirror_mode": {
    "name": "ipython",
    "version": 3
   },
   "file_extension": ".py",
   "mimetype": "text/x-python",
   "name": "python",
   "nbconvert_exporter": "python",
   "pygments_lexer": "ipython3",
   "version": "3.11.3"
  }
 },
 "nbformat": 4,
 "nbformat_minor": 5
}
